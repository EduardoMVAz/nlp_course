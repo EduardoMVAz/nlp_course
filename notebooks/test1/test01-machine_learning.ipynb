{
 "cells": [
  {
   "cell_type": "markdown",
   "metadata": {},
   "source": [
    "# NLP - Prova 1\n",
    "\n",
    "Nesta prova, utilizaremos um dataset fornecido por uma empresa de e-commerce. Trata-se de um dataset que contém reviews de pedidos feitos na Internet ou através do aplicativo. Cada review tem uma nota (*score*) que vai de 1 (muito ruim) a 5 (muito bom). Também, cada review tem uma mensagem deixada pelo cliente, que pode esclarecer o que levou à atribuição da nota. O dataset é o seguinte:"
   ]
  },
  {
   "cell_type": "code",
   "execution_count": 1,
   "metadata": {},
   "outputs": [
    {
     "data": {
      "text/html": [
       "<div>\n",
       "<style scoped>\n",
       "    .dataframe tbody tr th:only-of-type {\n",
       "        vertical-align: middle;\n",
       "    }\n",
       "\n",
       "    .dataframe tbody tr th {\n",
       "        vertical-align: top;\n",
       "    }\n",
       "\n",
       "    .dataframe thead th {\n",
       "        text-align: right;\n",
       "    }\n",
       "</style>\n",
       "<table border=\"1\" class=\"dataframe\">\n",
       "  <thead>\n",
       "    <tr style=\"text-align: right;\">\n",
       "      <th></th>\n",
       "      <th>review_id</th>\n",
       "      <th>review_score</th>\n",
       "      <th>review_comment_message</th>\n",
       "    </tr>\n",
       "  </thead>\n",
       "  <tbody>\n",
       "    <tr>\n",
       "      <th>0</th>\n",
       "      <td>e64fb393e7b32834bb789ff8bb30750e</td>\n",
       "      <td>5</td>\n",
       "      <td>Recebi bem antes do prazo estipulado.</td>\n",
       "    </tr>\n",
       "    <tr>\n",
       "      <th>1</th>\n",
       "      <td>f7c4243c7fe1938f181bec41a392bdeb</td>\n",
       "      <td>5</td>\n",
       "      <td>Parabéns lojas lannister adorei comprar pela I...</td>\n",
       "    </tr>\n",
       "    <tr>\n",
       "      <th>2</th>\n",
       "      <td>8670d52e15e00043ae7de4c01cc2fe06</td>\n",
       "      <td>4</td>\n",
       "      <td>aparelho eficiente. no site a marca do aparelh...</td>\n",
       "    </tr>\n",
       "    <tr>\n",
       "      <th>3</th>\n",
       "      <td>4b49719c8a200003f700d3d986ea1a19</td>\n",
       "      <td>4</td>\n",
       "      <td>Mas um pouco ,travando...pelo valor ta Boa.\\r\\n</td>\n",
       "    </tr>\n",
       "    <tr>\n",
       "      <th>4</th>\n",
       "      <td>3948b09f7c818e2d86c9a546758b2335</td>\n",
       "      <td>5</td>\n",
       "      <td>Vendedor confiável, produto ok e entrega antes...</td>\n",
       "    </tr>\n",
       "  </tbody>\n",
       "</table>\n",
       "</div>"
      ],
      "text/plain": [
       "                          review_id  review_score  \\\n",
       "0  e64fb393e7b32834bb789ff8bb30750e             5   \n",
       "1  f7c4243c7fe1938f181bec41a392bdeb             5   \n",
       "2  8670d52e15e00043ae7de4c01cc2fe06             4   \n",
       "3  4b49719c8a200003f700d3d986ea1a19             4   \n",
       "4  3948b09f7c818e2d86c9a546758b2335             5   \n",
       "\n",
       "                              review_comment_message  \n",
       "0              Recebi bem antes do prazo estipulado.  \n",
       "1  Parabéns lojas lannister adorei comprar pela I...  \n",
       "2  aparelho eficiente. no site a marca do aparelh...  \n",
       "3    Mas um pouco ,travando...pelo valor ta Boa.\\r\\n  \n",
       "4  Vendedor confiável, produto ok e entrega antes...  "
      ]
     },
     "execution_count": 1,
     "metadata": {},
     "output_type": "execute_result"
    }
   ],
   "source": [
    "import pandas as pd \n",
    "df = pd.read_csv('reviews.csv')\n",
    "df.head()"
   ]
  },
  {
   "cell_type": "markdown",
   "metadata": {},
   "source": [
    "A empresa, porém, gostaria de saber quais são os aspectos em que pode melhorar. Para fazer isso, jogou todos os reviews em um LLM (o procedimento para isso está em `consultar_llm.py`, que acompanha este notebook), e então coletou as respostas. Em sua execução, o LLM retornou o seguinte:"
   ]
  },
  {
   "cell_type": "markdown",
   "metadata": {},
   "source": [
    "## RESPOSTA DO LLM\n",
    "\n",
    "Para identificar os elementos mais elogiados e reclamados, vou analisar as avaliações buscando palavras-chave e temas recorrentes.\n",
    "\n",
    "**Elogios Mais Comuns:**\n",
    "\n",
    "*   **Entrega Rápida/No Prazo:** Este é o elogio mais frequente. Termos como \"chegou antes do prazo\", \"entrega rápida\", \"no prazo\" aparecem repetidamente.\n",
    "*   **Produto Bom/Excelente Qualidade:** Muitos clientes expressam satisfação com a qualidade do produto em si. Palavras como \"excelente\", \"bom\", \"perfeito\", \"recomendo\", \"atendeu minhas expectativas\", \"cumpre o que promete\" são comuns.\n",
    "*   **Bom Atendimento/Comunicação:** Alguns clientes elogiam a comunicação clara e eficiente com o vendedor.\n",
    "*   **Embalagem:** Alguns clientes elogiaram a forma como o produto foi embalado.\n",
    "\n",
    "**Reclamações Mais Comuns:**\n",
    "\n",
    "*   **Não Recebimento do Produto:** Esta é a reclamação mais grave e frequente. Várias avaliações mencionam \"não recebi o produto\" ou \"ainda não recebi\".\n",
    "*   **Atraso na Entrega:** Mesmo quando o produto é entregue, o atraso é uma reclamação comum.\n",
    "*   **Produto com Defeito/Danificado:** Alguns clientes relatam receber produtos com defeito, amassados ou com peças faltando.\n",
    "*   **Produto Errado:** Alguns clientes relatam ter recebido o produto errado.\n",
    "*   **Problemas com a Compra/Cancelamento:** Alguns clientes relatam problemas com o cancelamento da compra.\n",
    "*   **Problemas com a Comunicação:** Alguns clientes reclamam da dificuldade em se comunicar com o vendedor após a compra ou da falta de resposta às suas dúvidas.\n",
    "*   **Voltagem Errada:** Um cliente reclamou que o produto veio com a voltagem errada.\n",
    "*   **Qualidade do Produto Abaixo do Esperado:** Alguns clientes expressam insatisfação com a qualidade do produto, mencionando material ruim, acabamento imperfeito ou falsificação.\n",
    "*   **Problemas com a Entrega pelos Correios:** Um cliente reclamou do serviço dos correios.\n",
    "\n",
    "**Resumo:**\n",
    "\n",
    "*   **Elogios:** Entrega rápida/no prazo e boa qualidade do produto são os pontos fortes.\n",
    "*   **Reclamações:** Problemas com a entrega (não recebimento, atraso) e produtos com defeito/qualidade inferior são os principais pontos fracos.\n",
    "\n",
    "**Recomendações:**\n",
    "\n",
    "A empresa deve priorizar a melhoria dos processos de entrega para garantir que os produtos cheguem aos clientes no prazo e em perfeitas condições. Além disso, deve investir no controle de qualidade dos produtos e na comunicação com os clientes para resolver problemas de forma rápida e eficiente.\n"
   ]
  },
  {
   "cell_type": "markdown",
   "metadata": {},
   "source": [
    "## Discussão\n",
    "\n",
    "Mesmo que o LLM possa dar pistas importantes para o desenvolvimento desta solução, há um problemaa fundamental em simplesmente \"acreditar\" nessa resposta: ela não tem base em dados nem em uma metodologia científica, então é impossível criticá-la, replicá-la ou saber de suas limitações.\n",
    "\n",
    "A tarefa neste exercício é encontrar dados, usando metodologias clássicas de NLP, que corroborem ou que contradigam a conclusão trazida pelo LLM.\n"
   ]
  },
  {
   "cell_type": "markdown",
   "metadata": {},
   "source": [
    "# Exercícios"
   ]
  },
  {
   "cell_type": "markdown",
   "metadata": {},
   "source": [
    "## Exercício 1\n",
    "\n",
    "Faça e avalie (usando uma métrica) um modelo preditivo baseado no modelo Bag-of-Words capaz de prever, à partir do texto do review, se ele será positivo (notas 4 ou 5) ou negativo (notas 1, 2 ou 3). Use estratégias adequadas para mostrar que o modelo não está enviesado (por exemplo, retornando sempre 'positivo' para o review). Justifique todas as suas decisões (tipo de vetorizador, tipo de classificador, métrica(s) usada(s) para avaliação) em comentários no código.\n",
    "\n",
    "Dica: `df['positivo'] = df['review_score'].apply(lambda x: x > 3)`"
   ]
  },
  {
   "cell_type": "code",
   "execution_count": null,
   "metadata": {},
   "outputs": [
    {
     "name": "stdout",
     "output_type": "stream",
     "text": [
      "positivo\n",
      "True     26530\n",
      "False    14447\n",
      "Name: count, dtype: int64\n"
     ]
    },
    {
     "name": "stderr",
     "output_type": "stream",
     "text": [
      "c:\\Users\\emend\\OneDrive\\Área de Trabalho\\NLP\\env\\Lib\\site-packages\\sklearn\\feature_extraction\\text.py:402: UserWarning: Your stop_words may be inconsistent with your preprocessing. Tokenizing the stop words generated tokens ['amos', 'atã', 'dela', 'eram', 'estamos', 'estava', 'estavam', 'esteja', 'estejam', 'estejamos', 'esteve', 'estive', 'estivemos', 'estiver', 'estivera', 'estiveram', 'estiverem', 'estivermos', 'estivesse', 'estivessem', 'estivã', 'estou', 'estã', 'fomos', 'for', 'fora', 'forem', 'formos', 'fossem', 'fui', 'fã', 'haja', 'hajam', 'hajamos', 'havemos', 'hei', 'houve', 'houvemos', 'houver', 'houvera', 'houveram', 'houverei', 'houverem', 'houveremos', 'houveria', 'houveriam', 'houvermos', 'houverã', 'houvesse', 'houvessem', 'houvã', 'hã', 'jã', 'minhas', 'nhamos', 'nossa', 'nossas', 'nosso', 'nossos', 'nã', 'nã³s', 'ramos', 'sejam', 'sejamos', 'serei', 'seremos', 'seria', 'seriam', 'serã', 'somos', 'sou', 'ssemos', 'sã', 'sã³', 'tambã', 'temos', 'tenha', 'tenham', 'tenhamos', 'terei', 'teremos', 'teria', 'teriam', 'terã', 'teu', 'teus', 'teve', 'tinham', 'tive', 'tivemos', 'tiver', 'tivera', 'tiveram', 'tiverem', 'tivermos', 'tivesse', 'tivessem', 'tivã', 'tua', 'tuas', 'tã', 'tãªm', 'vamos', 'vocãª', 'vocãªs'] not in stop_words.\n",
      "  warnings.warn(\n"
     ]
    },
    {
     "name": "stdout",
     "output_type": "stream",
     "text": [
      "              precision    recall  f1-score   support\n",
      "\n",
      "       False       0.86      0.82      0.84      2837\n",
      "        True       0.91      0.93      0.92      5359\n",
      "\n",
      "    accuracy                           0.89      8196\n",
      "   macro avg       0.89      0.88      0.88      8196\n",
      "weighted avg       0.89      0.89      0.89      8196\n",
      "\n"
     ]
    }
   ],
   "source": [
    "#exercicio1\n",
    "#não apague o comentário acima!!!\n",
    "# Faça todo o seu código (e também os comentários) nesta célula!\n",
    "from sklearn.model_selection import train_test_split\n",
    "from sklearn.metrics import classification_report\n",
    "from sklearn.feature_extraction.text import CountVectorizer\n",
    "from sklearn.linear_model import LogisticRegression\n",
    "from sklearn.pipeline import Pipeline\n",
    "\n",
    "# Inicialmente, construir o y, fazendo uma coluna baseada na avaliação das reviews:\n",
    "df['positivo'] = df['review_score'].apply(lambda x: x > 3)\n",
    "\n",
    "# Outra informação relevante para minha avaliação do modelo é entender os dados, por isso,\n",
    "# obtenho a informação da representatividade dos meus dados (entre reviews positivas e negativas):\n",
    "print(df[\"positivo\"].value_counts())\n",
    "\n",
    "# Descobri que existem 26530 reviews positivas (4 ou 5 estrelas) e 14447 reviews negativas (1, 2 ou 3)\n",
    "# O que me sinaliza que, apesar de não totalmente balanceado entre classes, o dataset contém uma quantidade\n",
    "# suficiente de entradas para cada classe.\n",
    "# Sabendo também que a razão de reviews positivas para o total é de aproximadamente 65%, eu sei que uma \n",
    "# Acurácia trivial seria de 65%, onde meu classificador simplesmente estaria chutando a classe mais proeminente.\n",
    "\n",
    "# Utilizando uma pipeline simples com um CountVectorizer e um modelo baseado em Naive Bayes, \n",
    "# vou fazer testes para afirmar a interação de um modelo baseado em Bag-of-Words com os dados.\n",
    "\n",
    "# Utilizei um CountVectorizer por ser uma forma simples de representar os termos e suas presenças nos documentos,\n",
    "# E um modelo de Regressão Logística para avaliar as probabilidades das palavras mais tarde.\n",
    "\n",
    "X_train, X_test, y_train, y_test = train_test_split(df['review_comment_message'], df['positivo'], test_size=0.20)\n",
    "\n",
    "# Construi a pipeline com alguns argumentos no Vetorizador para ajudarem o treinamento do modelo, como stop words \n",
    "# (adquiri de um repositório) e min e max df,\n",
    "# Para tratarem palavras extremamente comuns ou outliers extremos.\n",
    "\n",
    "stop_words = open(\"stopwords.txt\", \"r\")\n",
    "stop_words = stop_words.read().split(\" \\n\")\n",
    "\n",
    "model = Pipeline([\n",
    "    ('vectorizer', CountVectorizer(binary=True, stop_words=stop_words, min_df=3, max_df=0.8)),\n",
    "    ('classifier', LogisticRegression())\n",
    "])\n",
    "\n",
    "# Treino e faço a predição\n",
    "model.fit(X_train, y_train)\n",
    "y_pred = model.predict(X_test)\n",
    "\n",
    "# E finalmente, usei um classification report para ter um entendimento profundo da interação do meu modelo com os dados\n",
    "print(classification_report(y_test, y_pred))\n",
    "\n",
    "# Meu classification report me informou que para a classe False (reviews negativas) meu precision é de 86%, e meu recall é de 82%,\n",
    "# Enquanto para a classe True (reviews positivas) meu precision é de 91%, e meu recall é de 93%. Os f1-scores são de 84% e 92% respectivamente.\n",
    "# Essa informação é bem interessante e me garante que meu modelo não chuta a classe mais proeminente, já que\n",
    "# sua acurácia não se assemelha a representatividade dessa classe no conjunto de teste, e ele é consistente em classificar as \n",
    "# reviews, com uma acurácia geral de 89%."
   ]
  },
  {
   "cell_type": "markdown",
   "metadata": {},
   "source": [
    "## Exercício 2\n",
    "\n",
    "Analise seu modelo e encontre quais são as palavras e/ou n-gramas que são melhores preditoras do número de estrelas (alto ou baixo) recebido um review (dica: você pode usar `pipeline[:-1].get_feature_names_out()` para encontrar uma lista com todos os tokens do seu vocabulário). Ao usar elementos do sklearn, use um comentário no código para explicar o que esses elementos significam e como eles podem apontar para o poder preditivo de cada palavra (ou n-grama). Por fim, use comentários no código para explicar como suas descobertas corroboram, contradizem, ou relativizam o que foi proposto pelo LLM."
   ]
  },
  {
   "cell_type": "code",
   "execution_count": null,
   "metadata": {},
   "outputs": [],
   "source": [
    "#exercicio2\n",
    "#não apague o comentário acima!!!\n",
    "# Faça todo o seu código (e também os comentários) nesta célula!\n",
    "\n",
    "# Decidi construir uma função que receberia uma review e classificaria essa review,\n",
    "# E então usando o método decision function nativo do modelo, escolheria as palavras\n",
    "# mais decisivas para aquela classificação\n",
    "import numpy as np\n",
    "import random\n",
    "\n",
    "def best_word_probabilities(model: Pipeline, review, k=5):\n",
    "    y = \"positivo\" if model.predict([review])[0] else \"negativo\"\n",
    "    \n",
    "    words = review.split()\n",
    "    words = np.array(list(set(words)))\n",
    "    decisive_words = model.decision_function(words)\n",
    "    sorted_idx = np.argsort(decisive_words)\n",
    "\n",
    "    if y == \"positivo\":\n",
    "        best_words = words[sorted_idx[:k]]\n",
    "    elif y == \"negativo\":\n",
    "        best_words = words[sorted_idx[-k:]]\n",
    "\n",
    "    return best_words\n",
    "\n",
    "# Tendo essa função feita, eu então usei ela para entender quais são as palavras mais\n",
    "# indicativas de cada classe do problema, passando por todas as reviews e guardando em dicionários\n",
    "# as palavras e suas frequências entre as melhores palavras, ou seja, quantas vezes elas apareceram \n",
    "# entre as palavras mais relevantes para uma review ser classificada\n",
    "\n",
    "reviews_positivas = df[df[\"positivo\"]][\"review_comment_message\"]\n",
    "reviews_negativas = df[df[\"positivo\"] == False][\"review_comment_message\"]\n",
    "\n",
    "# Eu utilizei as 2 palavras mais importantes, pois muitas reviews eram bem curtas\n",
    "best_words_for_positives = reviews_positivas.apply(lambda x: best_word_probabilities(model, x, 2) if len(x.split()) > 0 else [])\n",
    "best_words_for_negatives = reviews_negativas.apply(lambda x: best_word_probabilities(model, x, 2) if len(x.split()) > 0 else [])\n",
    "\n",
    "best_positive_words = {}\n",
    "best_negative_words = {}\n",
    "\n",
    "# Tive que remover as stop words do dicionário, pois elas apareciam de qualquer forma\n",
    "for words in best_words_for_positives:\n",
    "    for word in words:\n",
    "        word = word.lower()\n",
    "        if word in stop_words:\n",
    "            continue\n",
    "        if word in best_positive_words:\n",
    "            best_positive_words[word] += 1\n",
    "        else:\n",
    "            best_positive_words[word] = 1\n",
    "\n",
    "for words in best_words_for_negatives:\n",
    "    for word in words:\n",
    "        word = word.lower()\n",
    "        if word in stop_words:\n",
    "            continue\n",
    "        if word in best_negative_words:\n",
    "            best_negative_words[word] += 1\n",
    "        else:\n",
    "            best_negative_words[word] = 1\n",
    "\n",
    "sorted_best_positive_words = dict(sorted(best_positive_words.items(), key=lambda x: x[1]))\n",
    "sorted_best_negative_words = dict(sorted(best_negative_words.items(), key=lambda x: x[1]))\n",
    "\n",
    "print(list(sorted_best_positive_words.items())[-30:])\n",
    "print(list(sorted_best_negative_words.items())[-30:])\n",
    "\n",
    "# Ao analizar as palavras que estavam entre as mais frequentes, a avaliação do LLM usado pela empresa parece coerente.\n",
    "# Digo isso pois entre as palavras mais frequentes em reviews positivas estavam os óbvios \"ótimo\", \"excelente\", \"gostei\",\n",
    "# mas também haviam palavras relacionadas com os tópicos que o LLM mencionoi, como \"prazo\", \"recebi\", \"entregue\", \"chegou\".\n",
    "# Já ao analizar as palavras mais frequentes em reviews negativas, essas mesmas palavras \"prazo\", \"recebi\", \"entregue\", \"chegou\"\n",
    "# Estavam presentes também, mas as outras tinham conotações negativas, o que indica que a impressão contrária foi a passada."
   ]
  },
  {
   "cell_type": "markdown",
   "metadata": {},
   "source": [
    "# Rubricas e auto-avaliação assistida por IA\n",
    "\n",
    "Este teste tem duas questões. Porém, são questões bastante complexas. Para verificar se você não esqueceu de nada em nenhuma questão, você pode usar o script `autoavaliacao.py`.\n",
    "\n",
    "Cada um dos ítens cumpridos corretamente nas rubricas disponíveis em `autoavaliacao.py` terão o mesmo valor nas questões (1/8 na questão 1, 1/4 na questão 2). Um ítem cumprido parcialmente vale metade dos pontos. Um ítem feito errado não vale pontos. Cada uma das questões tem o mesmo valor (50% do total).\n",
    "\n",
    "**IMPORTANTE**: o fato de o LLM dizer que um ítem da rubrica foi cumprido, não significa que ele **realmente** foi cumprido. O LLM avalia apenas se o ítem **existe**. O LLM é uma **ferramenta** e a sua utilidade depende do **seu** julgamento crítico.\n",
    "\n",
    "Após o término da prova, salve seu notebook e entregue no Blackboard."
   ]
  },
  {
   "cell_type": "markdown",
   "metadata": {},
   "source": [
    "## Avaliação da prova\n",
    "\n",
    "Se desejar, comente os pontos abaixo:\n",
    "\n",
    "**Experiência da prova**: ao fazer esta prova, me senti...\n",
    "\n",
    "**Dificuldades técnicas ou de compreensão do enunciado**: ...\n",
    "\n",
    "**O script de auto-avaliação me ajudou**: sim, não, em partes...?"
   ]
  },
  {
   "cell_type": "code",
   "execution_count": null,
   "metadata": {},
   "outputs": [],
   "source": []
  }
 ],
 "metadata": {
  "kernelspec": {
   "display_name": "env",
   "language": "python",
   "name": "python3"
  },
  "language_info": {
   "codemirror_mode": {
    "name": "ipython",
    "version": 3
   },
   "file_extension": ".py",
   "mimetype": "text/x-python",
   "name": "python",
   "nbconvert_exporter": "python",
   "pygments_lexer": "ipython3",
   "version": "3.13.2"
  }
 },
 "nbformat": 4,
 "nbformat_minor": 2
}
