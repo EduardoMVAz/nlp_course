{
 "cells": [
  {
   "cell_type": "markdown",
   "metadata": {},
   "source": [
    "# DF: What are these texts about?\n",
    "\n",
    "In many situations, we want our computers to summarize a big set of texts. Perhaps we don't want to go into detail, but we wish to know what people are talking about. This is a great source of information, because it allows something called *opinion mining*: are people talking positively about an artist? About a company? About the government?\n",
    "\n",
    "Also, if you are collecting feedback, you might want to find out what are the main points your customers are complaining about.\n",
    "\n",
    "We will get started by downloading a dataset with news from Kaggle:"
   ]
  },
  {
   "cell_type": "code",
   "execution_count": 2,
   "metadata": {},
   "outputs": [
    {
     "name": "stdout",
     "output_type": "stream",
     "text": [
      "Path to dataset files: /home/tiago/.cache/kagglehub/datasets/gpreda/bbc-news/versions/1007\n",
      "Files in the dataset: ['bbc_news.csv']\n",
      "Number of news: 42115\n"
     ]
    },
    {
     "data": {
      "text/html": [
       "<div>\n",
       "<style scoped>\n",
       "    .dataframe tbody tr th:only-of-type {\n",
       "        vertical-align: middle;\n",
       "    }\n",
       "\n",
       "    .dataframe tbody tr th {\n",
       "        vertical-align: top;\n",
       "    }\n",
       "\n",
       "    .dataframe thead th {\n",
       "        text-align: right;\n",
       "    }\n",
       "</style>\n",
       "<table border=\"1\" class=\"dataframe\">\n",
       "  <thead>\n",
       "    <tr style=\"text-align: right;\">\n",
       "      <th></th>\n",
       "      <th>title</th>\n",
       "      <th>pubDate</th>\n",
       "      <th>guid</th>\n",
       "      <th>link</th>\n",
       "      <th>description</th>\n",
       "    </tr>\n",
       "  </thead>\n",
       "  <tbody>\n",
       "    <tr>\n",
       "      <th>0</th>\n",
       "      <td>Ukraine: Angry Zelensky vows to punish Russian...</td>\n",
       "      <td>Mon, 07 Mar 2022 08:01:56 GMT</td>\n",
       "      <td>https://www.bbc.co.uk/news/world-europe-60638042</td>\n",
       "      <td>https://www.bbc.co.uk/news/world-europe-606380...</td>\n",
       "      <td>The Ukrainian president says the country will ...</td>\n",
       "    </tr>\n",
       "    <tr>\n",
       "      <th>1</th>\n",
       "      <td>War in Ukraine: Taking cover in a town under a...</td>\n",
       "      <td>Sun, 06 Mar 2022 22:49:58 GMT</td>\n",
       "      <td>https://www.bbc.co.uk/news/world-europe-60641873</td>\n",
       "      <td>https://www.bbc.co.uk/news/world-europe-606418...</td>\n",
       "      <td>Jeremy Bowen was on the frontline in Irpin, as...</td>\n",
       "    </tr>\n",
       "    <tr>\n",
       "      <th>2</th>\n",
       "      <td>Ukraine war 'catastrophic for global food'</td>\n",
       "      <td>Mon, 07 Mar 2022 00:14:42 GMT</td>\n",
       "      <td>https://www.bbc.co.uk/news/business-60623941</td>\n",
       "      <td>https://www.bbc.co.uk/news/business-60623941?a...</td>\n",
       "      <td>One of the world's biggest fertiliser firms sa...</td>\n",
       "    </tr>\n",
       "    <tr>\n",
       "      <th>3</th>\n",
       "      <td>Manchester Arena bombing: Saffie Roussos's par...</td>\n",
       "      <td>Mon, 07 Mar 2022 00:05:40 GMT</td>\n",
       "      <td>https://www.bbc.co.uk/news/uk-60579079</td>\n",
       "      <td>https://www.bbc.co.uk/news/uk-60579079?at_medi...</td>\n",
       "      <td>The parents of the Manchester Arena bombing's ...</td>\n",
       "    </tr>\n",
       "    <tr>\n",
       "      <th>4</th>\n",
       "      <td>Ukraine conflict: Oil price soars to highest l...</td>\n",
       "      <td>Mon, 07 Mar 2022 08:15:53 GMT</td>\n",
       "      <td>https://www.bbc.co.uk/news/business-60642786</td>\n",
       "      <td>https://www.bbc.co.uk/news/business-60642786?a...</td>\n",
       "      <td>Consumers are feeling the impact of higher ene...</td>\n",
       "    </tr>\n",
       "  </tbody>\n",
       "</table>\n",
       "</div>"
      ],
      "text/plain": [
       "                                               title  \\\n",
       "0  Ukraine: Angry Zelensky vows to punish Russian...   \n",
       "1  War in Ukraine: Taking cover in a town under a...   \n",
       "2         Ukraine war 'catastrophic for global food'   \n",
       "3  Manchester Arena bombing: Saffie Roussos's par...   \n",
       "4  Ukraine conflict: Oil price soars to highest l...   \n",
       "\n",
       "                         pubDate  \\\n",
       "0  Mon, 07 Mar 2022 08:01:56 GMT   \n",
       "1  Sun, 06 Mar 2022 22:49:58 GMT   \n",
       "2  Mon, 07 Mar 2022 00:14:42 GMT   \n",
       "3  Mon, 07 Mar 2022 00:05:40 GMT   \n",
       "4  Mon, 07 Mar 2022 08:15:53 GMT   \n",
       "\n",
       "                                               guid  \\\n",
       "0  https://www.bbc.co.uk/news/world-europe-60638042   \n",
       "1  https://www.bbc.co.uk/news/world-europe-60641873   \n",
       "2      https://www.bbc.co.uk/news/business-60623941   \n",
       "3            https://www.bbc.co.uk/news/uk-60579079   \n",
       "4      https://www.bbc.co.uk/news/business-60642786   \n",
       "\n",
       "                                                link  \\\n",
       "0  https://www.bbc.co.uk/news/world-europe-606380...   \n",
       "1  https://www.bbc.co.uk/news/world-europe-606418...   \n",
       "2  https://www.bbc.co.uk/news/business-60623941?a...   \n",
       "3  https://www.bbc.co.uk/news/uk-60579079?at_medi...   \n",
       "4  https://www.bbc.co.uk/news/business-60642786?a...   \n",
       "\n",
       "                                         description  \n",
       "0  The Ukrainian president says the country will ...  \n",
       "1  Jeremy Bowen was on the frontline in Irpin, as...  \n",
       "2  One of the world's biggest fertiliser firms sa...  \n",
       "3  The parents of the Manchester Arena bombing's ...  \n",
       "4  Consumers are feeling the impact of higher ene...  "
      ]
     },
     "execution_count": 2,
     "metadata": {},
     "output_type": "execute_result"
    }
   ],
   "source": [
    "import kagglehub\n",
    "import os\n",
    "import pandas as pd\n",
    "from pathlib import Path\n",
    "\n",
    "path = Path(kagglehub.dataset_download(\"gpreda/bbc-news\"))\n",
    "print(\"Path to dataset files:\", path)\n",
    "print(\"Files in the dataset:\", os.listdir(path))\n",
    "df = pd.read_csv(path / os.listdir(path)[0])\n",
    "print(f\"Number of news: {len(df)}\")\n",
    "df.head()"
   ]
  },
  {
   "cell_type": "markdown",
   "metadata": {},
   "source": [
    "Ok, so we have over 40000 news downloaded from BBC here.\n",
    "\n",
    "We are going to work with the question: what was being said about the war in Ukraine?\n",
    "\n",
    "## Exercise 1: data preparation\n",
    "\n",
    "First of all, we will need to find all news articles that talk about Brazil.\n",
    "\n",
    "We will need a regular expression that matches all of Brazil, Brazilian, and so on, and then we can use Pandas' built in methods to filter out the news:"
   ]
  },
  {
   "cell_type": "code",
   "execution_count": 3,
   "metadata": {},
   "outputs": [
    {
     "name": "stdout",
     "output_type": "stream",
     "text": [
      "144\n"
     ]
    },
    {
     "data": {
      "text/html": [
       "<div>\n",
       "<style scoped>\n",
       "    .dataframe tbody tr th:only-of-type {\n",
       "        vertical-align: middle;\n",
       "    }\n",
       "\n",
       "    .dataframe tbody tr th {\n",
       "        vertical-align: top;\n",
       "    }\n",
       "\n",
       "    .dataframe thead th {\n",
       "        text-align: right;\n",
       "    }\n",
       "</style>\n",
       "<table border=\"1\" class=\"dataframe\">\n",
       "  <thead>\n",
       "    <tr style=\"text-align: right;\">\n",
       "      <th></th>\n",
       "      <th>title</th>\n",
       "      <th>pubDate</th>\n",
       "      <th>guid</th>\n",
       "      <th>link</th>\n",
       "      <th>description</th>\n",
       "    </tr>\n",
       "  </thead>\n",
       "  <tbody>\n",
       "    <tr>\n",
       "      <th>744</th>\n",
       "      <td>Evangelicalism &amp; Brazil: The religious movemen...</td>\n",
       "      <td>Tue, 22 Mar 2022 00:01:04 GMT</td>\n",
       "      <td>https://www.bbc.co.uk/sport/football/60483820</td>\n",
       "      <td>https://www.bbc.co.uk/sport/football/60483820?...</td>\n",
       "      <td>Evangelicalism within Brazil's national footba...</td>\n",
       "    </tr>\n",
       "    <tr>\n",
       "      <th>1392</th>\n",
       "      <td>Brazil at work: Black and held back</td>\n",
       "      <td>Tue, 05 Apr 2022 23:52:18 GMT</td>\n",
       "      <td>https://www.bbc.co.uk/news/world-latin-america...</td>\n",
       "      <td>https://www.bbc.co.uk/news/world-latin-america...</td>\n",
       "      <td>Brazil has one of the world's largest black po...</td>\n",
       "    </tr>\n",
       "    <tr>\n",
       "      <th>1430</th>\n",
       "      <td>Brazil at work: Black and held back</td>\n",
       "      <td>Tue, 05 Apr 2022 23:52:18 GMT</td>\n",
       "      <td>https://www.bbc.co.uk/news/world-latin-america...</td>\n",
       "      <td>https://www.bbc.co.uk/news/world-latin-america...</td>\n",
       "      <td>Brazil has one of the largest black and mixed ...</td>\n",
       "    </tr>\n",
       "    <tr>\n",
       "      <th>2069</th>\n",
       "      <td>Rio carnival: Brazil holds first Rio de Janeir...</td>\n",
       "      <td>Sun, 24 Apr 2022 01:49:24 GMT</td>\n",
       "      <td>https://www.bbc.co.uk/news/world-latin-america...</td>\n",
       "      <td>https://www.bbc.co.uk/news/world-latin-america...</td>\n",
       "      <td>Parades fill the streets of Brazil's Rio de Ja...</td>\n",
       "    </tr>\n",
       "    <tr>\n",
       "      <th>2154</th>\n",
       "      <td>Brazil Carnival: 'Bolsonaro' dancer turned int...</td>\n",
       "      <td>Mon, 25 Apr 2022 12:12:53 GMT</td>\n",
       "      <td>https://www.bbc.co.uk/news/world-latin-america...</td>\n",
       "      <td>https://www.bbc.co.uk/news/world-latin-america...</td>\n",
       "      <td>Brazil's famous Carnival returned this year fo...</td>\n",
       "    </tr>\n",
       "  </tbody>\n",
       "</table>\n",
       "</div>"
      ],
      "text/plain": [
       "                                                  title  \\\n",
       "744   Evangelicalism & Brazil: The religious movemen...   \n",
       "1392                Brazil at work: Black and held back   \n",
       "1430                Brazil at work: Black and held back   \n",
       "2069  Rio carnival: Brazil holds first Rio de Janeir...   \n",
       "2154  Brazil Carnival: 'Bolsonaro' dancer turned int...   \n",
       "\n",
       "                            pubDate  \\\n",
       "744   Tue, 22 Mar 2022 00:01:04 GMT   \n",
       "1392  Tue, 05 Apr 2022 23:52:18 GMT   \n",
       "1430  Tue, 05 Apr 2022 23:52:18 GMT   \n",
       "2069  Sun, 24 Apr 2022 01:49:24 GMT   \n",
       "2154  Mon, 25 Apr 2022 12:12:53 GMT   \n",
       "\n",
       "                                                   guid  \\\n",
       "744       https://www.bbc.co.uk/sport/football/60483820   \n",
       "1392  https://www.bbc.co.uk/news/world-latin-america...   \n",
       "1430  https://www.bbc.co.uk/news/world-latin-america...   \n",
       "2069  https://www.bbc.co.uk/news/world-latin-america...   \n",
       "2154  https://www.bbc.co.uk/news/world-latin-america...   \n",
       "\n",
       "                                                   link  \\\n",
       "744   https://www.bbc.co.uk/sport/football/60483820?...   \n",
       "1392  https://www.bbc.co.uk/news/world-latin-america...   \n",
       "1430  https://www.bbc.co.uk/news/world-latin-america...   \n",
       "2069  https://www.bbc.co.uk/news/world-latin-america...   \n",
       "2154  https://www.bbc.co.uk/news/world-latin-america...   \n",
       "\n",
       "                                            description  \n",
       "744   Evangelicalism within Brazil's national footba...  \n",
       "1392  Brazil has one of the world's largest black po...  \n",
       "1430  Brazil has one of the largest black and mixed ...  \n",
       "2069  Parades fill the streets of Brazil's Rio de Ja...  \n",
       "2154  Brazil's famous Carnival returned this year fo...  "
      ]
     },
     "execution_count": 3,
     "metadata": {},
     "output_type": "execute_result"
    }
   ],
   "source": [
    "import re\n",
    "regular_expression = r'Brazil*' # Change for something that matches references to ukraine\n",
    "df_filt = df[df['description'].str.contains(regular_expression, case=False)]\n",
    "print(len(df_filt))\n",
    "df_filt.head()"
   ]
  },
  {
   "cell_type": "markdown",
   "metadata": {},
   "source": [
    "## Exercise 2: Document Frequency\n",
    "\n",
    "First, we will identify all words that exist in our texts. One way to do such thing is to concatenate all headlines and descriptions in a single text file, then separate all words using RegEx, and then use the `set()` function to identify each word:"
   ]
  },
  {
   "cell_type": "code",
   "execution_count": 4,
   "metadata": {},
   "outputs": [
    {
     "name": "stdout",
     "output_type": "stream",
     "text": [
      "1327\n"
     ]
    }
   ],
   "source": [
    "all_descriptions = ' '.join(list(df_filt['description']))\n",
    "all_headlines = ' '.join(list(df_filt['title']))\n",
    "all_texts = all_descriptions + ' ' + all_headlines\n",
    "all_words = re.findall(r'\\b\\w+\\b', all_texts)\n",
    "all_unique_words = set(all_words)\n",
    "print(len(all_unique_words))"
   ]
  },
  {
   "cell_type": "markdown",
   "metadata": {},
   "source": [
    "The underlying theory of opinion mining is that words that convey opinion (or: that convey the \"common sense\" of a dataset) appear in more documents. The number of documents in which a word appears is called *document frequency*.\n",
    "\n",
    "We could build a dictionary in which keys are the words in our vocabulary and the values are the number of documents that word appears in. Remember, this is not the same as counting how many times that word was used: if the words appears in two documents, its frequency should be 2; however, if it appears twice in a single document, then its frequency should be 1.\n",
    "\n",
    "After that, we can divide the counts by the number of documents so your dictionary contains the probability that a randomly selected document contains each word (or: $P(w_n | d)$).\n",
    "\n",
    "We could study fast algorithms to calculate document frequency, but, instead, we are going to use the ready-made `CountVectorizer` class from `sklearn`.\n",
    "\n",
    "CountVectorizer creates a $X \\in \\mathbb{R}^{N \\times V}$ matrix where $N$ is the number of documents in the collection and $V$ is the vocabulary size. The element $x_{n,v}$ is $1$ if word $v$ appears in document $n$, and $0$ otherwise.\n",
    "\n",
    "CountVectorizer also creates a `vocabulary_` property containing a dictionary that maps words to their indexes in the matrix.\n",
    "\n",
    "We can use that to create a dictionary mapping words to their document frequency. \n",
    "\n",
    "The final dictionary should look like:\n",
    "\n",
    "    { \n",
    "      'word1' : number_of_documents_word1_appears/total_number_of_documents,\n",
    "      'word2' : number_of_documents_word2_appears/total_number_of_documents,\n",
    "      ...\n",
    "      'wordn' : number_of_documents_wordn_appears/total_number_of_documents,\n",
    "    }\n",
    "\n",
    "HINT: use `np.mean(x ,axis=0)` to calculate the mean value of a matrix along the rows."
   ]
  },
  {
   "cell_type": "code",
   "execution_count": 5,
   "metadata": {},
   "outputs": [],
   "source": [
    "from sklearn.feature_extraction.text import CountVectorizer\n",
    "\n",
    "vectorizer = CountVectorizer(binary=True, stop_words='english')\n",
    "X = vectorizer.fit_transform(df_filt['description'])\n",
    "\n",
    "# Does the word 'the' appear in document 3?\n",
    "#X[3, vectorizer.vocabulary_['the']]\n",
    "\n",
    "# Continue with your solution\n",
    "doc_freq_matrix = X.mean(axis=0)\n",
    "doc_freq = {\n",
    "    word: doc_freq_matrix[0, vectorizer.vocabulary_[word]]\n",
    "    for word in vectorizer.vocabulary_\n",
    "}"
   ]
  },
  {
   "cell_type": "markdown",
   "metadata": {},
   "source": [
    "## Exercise 3: stopwords"
   ]
  },
  {
   "cell_type": "markdown",
   "metadata": {},
   "source": [
    "Now, see some useful manipulations. We can convert our dictionary to a Pandas dataframe and plot some values as a barplot:"
   ]
  },
  {
   "cell_type": "code",
   "execution_count": 6,
   "metadata": {},
   "outputs": [
    {
     "data": {
      "image/png": "[encoded data removed]",
      "text/plain": [
       "<Figure size 1500x200 with 1 Axes>"
      ]
     },
     "metadata": {},
     "output_type": "display_data"
    }
   ],
   "source": [
    "import matplotlib.pyplot as plt\n",
    "import pandas as pd \n",
    "df_vocabulary = pd.DataFrame(doc_freq.items(), columns=['word', 'frequency'])\n",
    "df_vocabulary = df_vocabulary.sort_values(by='frequency', ascending=False)\n",
    "df_vocabulary.head()\n",
    "plt.figure(figsize=(15,2))\n",
    "plt.bar(df_vocabulary.iloc[0:25]['word'], df_vocabulary[0:25]['frequency'])\n",
    "plt.xticks(rotation=90)\n",
    "plt.show()"
   ]
  },
  {
   "cell_type": "markdown",
   "metadata": {},
   "source": [
    "Note that there are some words that are so common that they don't tell us much about the problem, like \"the\" and \"a\". These types of words are usually avoided by using a manually-curated list of special words called \"stopwords\". We can inform our vectorizer to use a pre-made list of stop words by using the `stop_words` parameter:\n",
    "\n",
    "    vectorizer = CountVectorizer(binary=True, stop_words='english')\n",
    "\n",
    "Now, go ahead and incorporate the parameters, and run the code above again. What changes do you see in the plot?\n",
    "\n",
    "According to this plot, what could be said about the news on Ukraine?"
   ]
  },
  {
   "cell_type": "markdown",
   "metadata": {},
   "source": [
    "## Exercise 4: lemmatization\n",
    "\n",
    "If everything went well, you should be seeing \"say\" and \"says\" with high document frequencies. However, they carry very similar information - hence they should be together.\n",
    "\n",
    "One way to deal with that is to remember that words are composed of a stem and a suffix (like \"liquid\", \"liquidification\", \"liquidize\", and so on). The process of removing the suffix is called \"stemming\". There are some interesting processes to perform stemming.\n",
    "\n",
    "Another approach is to use lemmatization. In lemmatization, each word is changed by its dictionary entry. It is a great process to remove plurals, for example.\n",
    "\n",
    "There are stemmers and lemmatizers implemented in the NLTK library:"
   ]
  },
  {
   "cell_type": "code",
   "execution_count": 7,
   "metadata": {},
   "outputs": [
    {
     "name": "stderr",
     "output_type": "stream",
     "text": [
      "[nltk_data] Downloading package wordnet to /home/tiago/nltk_data...\n",
      "[nltk_data]   Package wordnet is already up-to-date!\n"
     ]
    },
    {
     "name": "stdout",
     "output_type": "stream",
     "text": [
      "say say\n"
     ]
    }
   ],
   "source": [
    "import nltk\n",
    "from nltk.stem import WordNetLemmatizer, PorterStemmer\n",
    "\n",
    "# Download WordNet data\n",
    "nltk.download('wordnet')\n",
    "\n",
    "lemmatizer = WordNetLemmatizer()\n",
    "lemmatized_word = lemmatizer.lemmatize(\"says\")\n",
    "\n",
    "stemmed = PorterStemmer()\n",
    "stemmed_word = stemmed.stem(\"says\")\n",
    "print(lemmatized_word, stemmed_word)"
   ]
  },
  {
   "cell_type": "markdown",
   "metadata": {},
   "source": [
    "However, NLTK's implementation operates in a single word.\n",
    "\n",
    "Make functions to apply stemming to each word in the dataset, and then run your code again. After that, try it with lemmatization. Which one is clearer?"
   ]
  },
  {
   "cell_type": "code",
   "execution_count": 8,
   "metadata": {},
   "outputs": [],
   "source": [
    "# Make your solution here\n"
   ]
  },
  {
   "cell_type": "markdown",
   "metadata": {},
   "source": [
    "## Exercise 5: the inverted index\n",
    "\n",
    "You might have figured out by now that searching for words in a large collection is very inneficient. To avoid such searches, many databases implement a data structure called an \"inverted index\".\n",
    "\n",
    "The inverted index is essentially a dictionary whose key is a word from the vocabulary, and whose value is a list (or set) of references to documents that contain that word.\n",
    "\n",
    "As an example, the inverted index below:\n",
    "\n",
    "    {\n",
    "        'brazil' : [0, 1, 2],\n",
    "        'argentina' : [2, 3]\n",
    "    }\n",
    "\n",
    "means that \"brazil\" appears in documents 0, 1, and 2, while \"argentina\" appears in documents 2 and 3.\n",
    "\n",
    "You might want to stem/lemmatize the words before implementing the inverted index.\n",
    "\n",
    "(a) Complete the function below to generate an inverted index for a news dataframe, which will allow searching among news based on keywords. HINT: use `CountVectorizer` to save yourself some time!\n",
    "\n",
    "(b) Use your inverted index to search for news documents that contain \"brazil\" AND \"president\". What does the DF distribution say in this case?\n",
    "\n",
    "(c) Use your inverted index to search for news documents that contain \"brazil\" BUT DO NOT CONTAIN \"football\" or \"soccer\". How is the DF distribution in this case?"
   ]
  },
  {
   "cell_type": "code",
   "execution_count": 9,
   "metadata": {},
   "outputs": [],
   "source": [
    "from typing import Dict\n",
    "\n",
    "def make_inverted_index_from_df(df : pd.DataFrame) -> Dict:\n",
    "    return {}"
   ]
  },
  {
   "cell_type": "markdown",
   "metadata": {},
   "source": [
    "## Exercise 6: a solution with LLMs\n",
    "\n",
    "So far, we have learned how to use classic NLP techniques to get a gist of the news. However, large language models (LLMs) seem to be the new state of the art for such. \n",
    "\n",
    "Well, we would like a summary of all news related to Brazil. Our classical methods are highly biased by the fact that most news are about football - let's see what LLMs can do for us here!\n",
    "\n",
    "For such, we will use Google Gemni, which has a great free tier that is just enough for our learning purposes. Go to https://aistudio.google.com/ and get yourself an API key. Then, add the key to the `.env` file in your system.\n",
    "\n",
    "Check how prompting works - it is essentially like using ChatGPT.\n",
    "\n",
    "1. Can you control the prompts so that summaries are more verbose or less verbose?\n",
    "1. What happens if you don't provide the model with the news you want a summary of - maybe changing the prompt to \"give me a summary of news in Brazil from 2022 to 2024\"?\n",
    "1. What happens if you ask a direct question?"
   ]
  },
  {
   "cell_type": "code",
   "execution_count": 11,
   "metadata": {},
   "outputs": [
    {
     "name": "stdout",
     "output_type": "stream",
     "text": [
      "These news items cover a wide range of topics related to Brazil, including:\n",
      "\n",
      "**Politics and Social Issues:**\n",
      "\n",
      "* **Presidential Elections:**  The 2022 Brazilian presidential election was a major focus, with coverage of campaigning, the results (Lula's victory), and the subsequent reactions, including riots in the capital.  The influence of evangelical Christians, particularly women of color, in the election is highlighted.  The US's keen interest in the election outcome is also noted.  The political polarization of the country is a recurring theme.\n",
      "* **Social Inequality:** Brazil's significant racial inequality is addressed, showing the underrepresentation of Black people in managerial positions.\n",
      "* **Poverty and Cost of Living Crisis:**  The impact of the cost of living crisis on Brazilians, leading to extreme measures for survival and a growing hunger crisis, is discussed.  Community initiatives like urban gardens are highlighted as responses.\n",
      "* **Amazon Rainforest:** The future of the Amazon rainforest is linked to the outcome of the presidential election.\n",
      "* **Religious Trends:** The growing influence of Evangelical Christianity within Brazilian society, including within the national football team, is mentioned.\n",
      "\n",
      "**Crime and Justice:**\n",
      "\n",
      "* **Dom Phillips Murder:** The disappearance and subsequent murder of journalist Dom Phillips in the Amazon is extensively covered.\n",
      "* **Armed Robbery:** A story about Emerson Royal, a football player, being saved from an armed robbery.\n",
      "* **Racial Abuse:** Seven people were punished for racist acts against Real Madrid's Vinicius Jr.\n",
      "* **Rape Conviction:** Dani Alves, a former Brazilian footballer, was convicted of rape in Spain.\n",
      "* **Prison Escape:**  The escape of a convicted murderer from a Brazilian prison.\n",
      "\n",
      "**Sports:**\n",
      "\n",
      "* **Football:** Numerous news items cover the Brazilian national football team, including their World Cup 2022 performance (reaching the quarter-finals), individual player news (Neymar's injury, Richarlison's goals, Casemiro's transfer to Manchester United, Antony's transfer and subsequent allegations), and the transfers of several Brazilian players to European clubs.  The legacy of Pelé is also heavily featured following his death.  Brazil's Women's national team's performance in the 2023 Women's World Cup is covered, including Marta's final tournament.\n",
      "* **Other Sports:**  News about Brazilian participation in other sporting events like surfing (Gabriel Medina) and Judo is also included.\n",
      "\n",
      "**Culture and Events:**\n",
      "\n",
      "* **Carnival:** The return of Carnival in Rio de Janeiro after the pandemic is reported.\n",
      "\n",
      "**Other:**\n",
      "\n",
      "* **International Relations:** Brazil's role in the BRICS group and its relationship with China are discussed. A summit on the Amazon basin is mentioned.  The impact of Brazilian politics on international relations, especially with the US, is highlighted.\n",
      "* **Medical Issues:**  The death of Pelé from cancer, the risks associated with Brazilian butt lift surgery (with multiple related deaths mentioned), and Neymar's surgery are covered.\n",
      "\n",
      "\n",
      "In short, the news items paint a picture of Brazil as a country facing significant political and social challenges, while simultaneously maintaining a strong presence in international sports and experiencing its cultural vibrancy.  The juxtaposition of these diverse elements is a key feature of the news collection.\n",
      "\n"
     ]
    }
   ],
   "source": [
    "import os\n",
    "from dotenv import load_dotenv\n",
    "import google.generativeai as genai\n",
    "load_dotenv()\n",
    "GEMINI_API_KEY = os.getenv('GEMINI_API_KEY')\n",
    "#GEMINI_API_KEY = # Go to https://aistudio.google.com/ to get a key. DO NOT commit your key to the repository!\n",
    "\n",
    "# Start the use of the API\n",
    "genai.configure(api_key=GEMINI_API_KEY)\n",
    "model = genai.GenerativeModel(model_name=\"gemini-1.5-flash\")\n",
    "\n",
    "# Make our prompt here\n",
    "news = '\\n\\nAnother news '.join(list(df_filt['description']))\n",
    "prompt = f\"I have these pieces of news: {news}. Can you summarize them for me?\"\n",
    "\n",
    "# Use our prompt\n",
    "chat_session = model.start_chat()\n",
    "response = chat_session.send_message(prompt)\n",
    "\n",
    "# Print our response\n",
    "print(response.text)"
   ]
  },
  {
   "cell_type": "code",
   "execution_count": null,
   "metadata": {},
   "outputs": [
    {
     "name": "stdout",
     "output_type": "stream",
     "text": [
      "These news pieces cover a wide range of topics related to Brazil, including:\n",
      "\n",
      "**Politics and Society:**\n",
      "\n",
      "* **Elections:**  The 2022 Brazilian presidential election was a major focus, with coverage of campaigning, the results (Lula's victory),  voter anxieties, and the subsequent storming of the Congress by Bolsonaro supporters.  The influence of evangelical Christians, particularly women of color, on the election is highlighted.  The US's interest in the election outcome is also noted.\n",
      "* **Social Issues:**  Brazil's significant racial inequality is addressed, showing the underrepresentation of Black people in management positions.  Poverty and the cost of living crisis are recurring themes, impacting various sectors of society.  The rise of evangelical Christianity in the country is also discussed.\n",
      "* **Amazon Rainforest:** The future of the Amazon rainforest is presented as a key election issue.\n",
      "* **Indigenous Peoples:**  The disappearance and presumed murder of journalist Dom Phillips in the Amazon, and the plight of an uncontacted indigenous group are covered.\n",
      "* **Crime:**  Reports on armed robbery, murder, prison escape, and gang rape.\n",
      "\n",
      "**Sports:**\n",
      "\n",
      "* **Football (Soccer):** Extensive coverage of the Brazilian national football team's performance in the 2022 World Cup, including individual player achievements (Neymar, Richarlison, Casemiro),  the team's eventual loss to Croatia, and tributes to Pele following his death.  Numerous news pieces detail player transfers (Antony, Casemiro, Paqueta, etc.)  The pervasiveness of football in Brazilian culture is evident in the stories of players from favelas reaching international fame.  The national team's use of the yellow shirt as a political tool is also mentioned.\n",
      "* **Other Sports:**  Coverage of Brazil's participation in the Women's World Cup,  Olympic events (surfing, judo), and other sporting competitions.\n",
      "\n",
      "**Other:**\n",
      "\n",
      "* **Carnival:** The return of Carnival after the pandemic is noted.\n",
      "* **Celebrities:**  Mention of Hollywood stars urging Brazilian youth to vote, and various celebrities' involvement in the election and entertainment news (Bobby Brazier).\n",
      "* **Economy:** Reports on the cost of living crisis, innovative agricultural technology, and the impact of global economic events.\n",
      "* **Healthcare:** The risks associated with Brazilian butt lift surgery are discussed following a death.  News also reports on the Supreme Court's consideration of decriminalizing abortion.\n",
      "\n",
      "In summary, the news pieces offer a multifaceted view of Brazil, encompassing its political landscape, social challenges, economic struggles, sporting achievements, cultural events, and environmental concerns.  The death of Pele serves as a unifying thread, highlighting his immense global impact and the nation's mourning.\n",
      "\n"
     ]
    }
   ],
   "source": []
  }
 ],
 "metadata": {
  "kernelspec": {
   "display_name": "nlp_course",
   "language": "python",
   "name": "python3"
  },
  "language_info": {
   "codemirror_mode": {
    "name": "ipython",
    "version": 3
   },
   "file_extension": ".py",
   "mimetype": "text/x-python",
   "name": "python",
   "nbconvert_exporter": "python",
   "pygments_lexer": "ipython3",
   "version": "3.12.8"
  }
 },
 "nbformat": 4,
 "nbformat_minor": 2
}
