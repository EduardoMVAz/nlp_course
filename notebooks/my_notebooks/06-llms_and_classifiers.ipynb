{
 "cells": [
  {
   "cell_type": "markdown",
   "metadata": {},
   "source": [
    "# TEST 1: Leveraging LLMs for Feature Generation and Classification\n",
    "\n",
    "Typically, if our data has $N$ features, we need around $10N$ data items to reach peak performance with classic classifiers like Logistic Regression. Therefore, if our vocabulary has 10,000 words, we would need around 1 million items in the training set to reach peak performance.\n",
    "\n",
    "An interesting idea regarding this was explored in 2024 in [Balek, V., S'ykora, L., Sklen'ak, V., & Kliegr, T. (2024). LLM-based feature generation from text for interpretable machine learning. ArXiv, abs/2409.07132](https://arxiv.org/abs/2409.07132). The idea is to use an LLM to generate meaningful and interpretable features from text, and then use Logistic Regression for classification.\n",
    "\n",
    "For example, in the movie plots dataset, we could have features like:\n",
    "- \"Is the protagonist an animal?\" (0 or 1)\n",
    "- \"Does the plot indicate psychological suffering?\" (0 or 1)\n",
    "\n",
    "With a reasonable number of these features, our model could make predictions based on meaningful features instead of raw words.\n",
    "\n",
    "## Objectives\n",
    "* Perform feature extraction for a particular dataset\n",
    "* Compare performance and explainability of classifiers with different approaches. \n",
    "\n",
    "## Rules\n",
    "\n",
    "I highlight a few elements of our usual rules:\n",
    "\n",
    "* You are **NOT ALLOWED** to use AI to generate any code you are asked to make yourself. This includes ChatGPT, CoPilot and all similar generators.\n",
    "* You are **NOT ALLOWED** to use Google or any other search engine.\n",
    "* You are **ALLOWED** to use the offical documentations for libraries: \n",
    "    * [sklearn](https://scikit-learn.org/)\n",
    "    * [numpy](https://numpy.org/)\n",
    "    * [matplotlib](https://matplotlib.org/)\n",
    "    * [google AI studio](https://aistudio.google.com/)\n",
    "* You are **ALLOWED** to use previous code from this course as basis.\n",
    "* You **MUST** use the university's proctoring software to show you are complying with these rules\n",
    "* This task is **INDIVIDUAL**. DO NOT share your code or results with anyone else.\n",
    "\n",
    "## Tasks and Deliverables\n",
    "\n",
    "* At any point, refer to [Balek et al.](https://arxiv.org/abs/2409.07132). \n",
    "* Make a well-commented code to solve each one of the tasks below.\n",
    "* Each task will be evaluated as:\n",
    "    * Insufficient: task is not done, off-topic, or low-effort\n",
    "    * In process: task is incomplete, done with a clear conceptual error, or comments \n",
    "    * Proficient: everything works and comments are enough to understand what is being done\n",
    "    * Advanced: everything works, comments are enough to understand what is being done, and code is well organized and formated using functions, dataclasses, and other adequate structures.\n",
    "* This task should be finished by the end of the class.\n",
    "* After you are finished, submit the executed notebook in our LMS system.\n",
    "\n",
    "### 1. Dataset Preparation:\n",
    "Adapting Balek et al.'s strategy to our movie plot classification case, create a dataset with at least 100 labeled items and at least 5 meaningful features. None of the features can be the class itself (\"is this a drama plot?\"). Use a clear strategy to avoid exceeding free tier quotas. Store data locally in a format of your choice.\n",
    "\n",
    "### 2. Classification:\n",
    "Use the generated features to train a Logistic Regression model. Use cross-validation to select the best hyperparameters. Report accuracy and f1-score for your classifier.\n",
    "\n",
    "### 3. Performance Comparison\n",
    "Compare the performance of the following approaches:\n",
    "1. Traditional Bag-of-Words\n",
    "2. LLM-generated features with Logistic Regression\n",
    "3. Direct classification using LLM\n",
    "\n",
    "Use a bar plot to show the performance differences (choose either accuracy or F1-score).\n",
    "\n",
    "### 4. Improvement Strategies\n",
    "Determine whether labeling more items would improve system performance. Use data to justify your answer.\n"
   ]
  },
  {
   "cell_type": "markdown",
   "metadata": {},
   "source": [
    "# **ANSWERS**\n",
    "\n",
    "## 1. Dataset Preparation:\n",
    "\n",
    "First, I will formulate the questions I believe would be helpful to differ a text between comedy and drama. The questions I thought of are:\n",
    "\n",
    "- Is the wording descriptive?\n",
    "\n",
    "- Does the text indicate suffering?\n",
    "\n",
    "- Do the characters sound goofy or funny?\n",
    "\n",
    "- Does the text use more complex wording?\n",
    "\n",
    "- Does the text leave unanswered questions?\n",
    "\n",
    "And the prompt I formulatted is the following:"
   ]
  },
  {
   "cell_type": "code",
   "execution_count": 22,
   "metadata": {},
   "outputs": [],
   "source": [
    "import os\n",
    "from dotenv import load_dotenv\n",
    "import google.generativeai as genai\n",
    "import pandas as pd\n",
    "import time\n",
    "\n",
    "load_dotenv()\n",
    "GEMINI_API_KEY = os.getenv('GEMINI_API_KEY')\n",
    "\n",
    "genai.configure(api_key=GEMINI_API_KEY)\n",
    "\n",
    "prompt = \"\"\"Gemni I have a text that I need to classify based on questions. You should answer for the text, 5 questions with yes or no (use 1 for yes and 0 for no). \n",
    "You should not leave any questions unanswered, always give a yes or no. If you are unsure, use your best judgement. The questions are as follows:\n",
    "1. Does the text use very descriptive and formal language?\n",
    "2. Does the text indicate some kind of suffering?\n",
    "3. Does the characters in the text sound goofy or funny?\n",
    "4. Does the text indicate a theme of subversion of expectations?\n",
    "5. Does the text indicate a profound narrative?\n",
    "\n",
    "The output should be binary, 1 for 'yes' and 0 for 'no'. Please follow this format when answering:\n",
    "\n",
    "<QUESTION_1_ANSWER><QUESTION_2_ANSWER><QUESTION_3_ANSWER><QUESTION_4_ANSWER><QUESTION_5_ANSWER>\n",
    "\n",
    "\"\"\"\n",
    "\n",
    "df = pd.read_csv('https://raw.githubusercontent.com/tiagoft/NLP/main/wiki_movie_plots_drama_comedy.csv')"
   ]
  },
  {
   "cell_type": "code",
   "execution_count": null,
   "metadata": {},
   "outputs": [
    {
     "name": "stdout",
     "output_type": "stream",
     "text": [
      "01001\n",
      "00001\n",
      "00001\n",
      "00001\n",
      "00001\n",
      "00001\n",
      "00001\n",
      "01001\n",
      "10011\n",
      "01001\n",
      "00001\n",
      "00010\n",
      "01001\n",
      "429 Resource has been exhausted (e.g. check quota).\n",
      "01001\n",
      "00011\n",
      "00011\n",
      "00011\n",
      "00000\n",
      "00001\n",
      "00010\n",
      "00100\n",
      "00001\n",
      "00010\n",
      "00001\n",
      "00001\n",
      "00010\n",
      "00011\n",
      "00011\n",
      "429 Resource has been exhausted (e.g. check quota).\n",
      "01001\n",
      "00010\n",
      "00010\n",
      "00001\n",
      "00001\n",
      "00101\n",
      "00001\n",
      "00101\n",
      "01001\n",
      "00000\n",
      "00010\n",
      "00011\n",
      "00001\n",
      "00010\n",
      "00011\n",
      "00001\n",
      "429 Resource has been exhausted (e.g. check quota).\n",
      "00101\n",
      "00010\n",
      "00101\n",
      "00010\n",
      "00010\n",
      "00101\n",
      "00001\n",
      "00001\n",
      "00001\n",
      "00010\n",
      "00011\n",
      "00010\n",
      "00011\n",
      "00001\n",
      "00001\n",
      "00010\n",
      "429 Resource has been exhausted (e.g. check quota).\n",
      "00000\n",
      "00000\n",
      "00001\n",
      "00000\n",
      "00001\n",
      "00010\n",
      "01001\n",
      "00010\n",
      "00011\n",
      "00011\n",
      "00011\n",
      "00001\n",
      "00001\n",
      "00001\n",
      "00000\n",
      "01001\n",
      "00011\n",
      "01001\n",
      "00001\n",
      "00001\n",
      "00000\n",
      "00011\n",
      "429 Resource has been exhausted (e.g. check quota).\n",
      "00100\n",
      "00001\n",
      "00011\n",
      "00000\n",
      "00011\n",
      "00101\n",
      "00011\n",
      "00010\n",
      "00001\n",
      "01001\n",
      "00011\n",
      "00000\n",
      "00001\n",
      "00011\n",
      "00001\n",
      "00010\n",
      "00010\n",
      "429 Resource has been exhausted (e.g. check quota).\n",
      "00001\n"
     ]
    }
   ],
   "source": [
    "generation_config = genai.GenerationConfig(\n",
    "    max_output_tokens=5,\n",
    ")\n",
    "\n",
    "# Use our prompt four times\n",
    "model = genai.GenerativeModel(model_name=\"gemini-1.5-flash\")\n",
    "\n",
    "df_A = df[df['Genre'] == 'drama'].sample(n=50, random_state=42)\n",
    "df_B = df[df['Genre'] == 'comedy'].sample(n=50, random_state=42)\n",
    "df_sampled = pd.concat([df_A, df_B])\n",
    "\n",
    "\n",
    "df_processed = pd.DataFrame(columns=[\"Plot\", \"Q1\", \"Q2\", \"Q3\", \"Q4\", \"Q5\", \"Genre\"])\n",
    "\n",
    "i = 0\n",
    "\n",
    "while i < 100:\n",
    "    try:\n",
    "        text = df_sampled['Plot'].iloc[i]\n",
    "        genre = df_sampled['Genre'].iloc[i]\n",
    "\n",
    "        response = model.generate_content([prompt, text],\n",
    "                                        generation_config=generation_config)\n",
    "        \n",
    "        print(response.text)\n",
    "\n",
    "        response = response.text\n",
    "        \n",
    "        df_processed = pd.concat([df_processed, pd.DataFrame({'Plot': [text], 'Q1': [response[0]], 'Q2': [response[1]], 'Q3': [response[2]], 'Q4': [response[3]], 'Q5': [response[4]], 'Genre': [genre]})])\n",
    "\n",
    "        i += 1\n",
    "    except Exception as e:\n",
    "        print(e)\n",
    "        time.sleep(62)\n",
    "\n",
    "df_processed.to_csv('movies_processed.csv', index=False)"
   ]
  },
  {
   "cell_type": "code",
   "execution_count": 34,
   "metadata": {},
   "outputs": [
    {
     "data": {
      "text/html": [
       "<div>\n",
       "<style scoped>\n",
       "    .dataframe tbody tr th:only-of-type {\n",
       "        vertical-align: middle;\n",
       "    }\n",
       "\n",
       "    .dataframe tbody tr th {\n",
       "        vertical-align: top;\n",
       "    }\n",
       "\n",
       "    .dataframe thead th {\n",
       "        text-align: right;\n",
       "    }\n",
       "</style>\n",
       "<table border=\"1\" class=\"dataframe\">\n",
       "  <thead>\n",
       "    <tr style=\"text-align: right;\">\n",
       "      <th></th>\n",
       "      <th>Plot</th>\n",
       "      <th>Q1</th>\n",
       "      <th>Q2</th>\n",
       "      <th>Q3</th>\n",
       "      <th>Q4</th>\n",
       "      <th>Q5</th>\n",
       "      <th>Genre</th>\n",
       "    </tr>\n",
       "  </thead>\n",
       "  <tbody>\n",
       "    <tr>\n",
       "      <th>0</th>\n",
       "      <td>The film is about a family who move to the sub...</td>\n",
       "      <td>0</td>\n",
       "      <td>1</td>\n",
       "      <td>0</td>\n",
       "      <td>0</td>\n",
       "      <td>1</td>\n",
       "      <td>comedy</td>\n",
       "    </tr>\n",
       "    <tr>\n",
       "      <th>0</th>\n",
       "      <td>Before heading out to a baseball game at a nea...</td>\n",
       "      <td>0</td>\n",
       "      <td>0</td>\n",
       "      <td>0</td>\n",
       "      <td>0</td>\n",
       "      <td>1</td>\n",
       "      <td>comedy</td>\n",
       "    </tr>\n",
       "    <tr>\n",
       "      <th>0</th>\n",
       "      <td>The plot is that of a black woman going to the...</td>\n",
       "      <td>0</td>\n",
       "      <td>0</td>\n",
       "      <td>0</td>\n",
       "      <td>0</td>\n",
       "      <td>1</td>\n",
       "      <td>comedy</td>\n",
       "    </tr>\n",
       "    <tr>\n",
       "      <th>0</th>\n",
       "      <td>On a beautiful summer day a father and mother ...</td>\n",
       "      <td>0</td>\n",
       "      <td>0</td>\n",
       "      <td>0</td>\n",
       "      <td>0</td>\n",
       "      <td>1</td>\n",
       "      <td>drama</td>\n",
       "    </tr>\n",
       "    <tr>\n",
       "      <th>0</th>\n",
       "      <td>A thug accosts a girl as she leaves her workpl...</td>\n",
       "      <td>0</td>\n",
       "      <td>0</td>\n",
       "      <td>0</td>\n",
       "      <td>0</td>\n",
       "      <td>1</td>\n",
       "      <td>drama</td>\n",
       "    </tr>\n",
       "  </tbody>\n",
       "</table>\n",
       "</div>"
      ],
      "text/plain": [
       "                                                Plot  Q1  Q2  Q3  Q4  Q5  \\\n",
       "0  The film is about a family who move to the sub...   0   1   0   0   1   \n",
       "0  Before heading out to a baseball game at a nea...   0   0   0   0   1   \n",
       "0  The plot is that of a black woman going to the...   0   0   0   0   1   \n",
       "0  On a beautiful summer day a father and mother ...   0   0   0   0   1   \n",
       "0  A thug accosts a girl as she leaves her workpl...   0   0   0   0   1   \n",
       "\n",
       "    Genre  \n",
       "0  comedy  \n",
       "0  comedy  \n",
       "0  comedy  \n",
       "0   drama  \n",
       "0   drama  "
      ]
     },
     "execution_count": 34,
     "metadata": {},
     "output_type": "execute_result"
    }
   ],
   "source": [
    "df_processed.head()"
   ]
  },
  {
   "cell_type": "code",
   "execution_count": 25,
   "metadata": {},
   "outputs": [
    {
     "data": {
      "text/plain": [
       "Genre\n",
       "drama     55\n",
       "comedy    45\n",
       "Name: count, dtype: int64"
      ]
     },
     "execution_count": 25,
     "metadata": {},
     "output_type": "execute_result"
    }
   ],
   "source": [
    "df_processed[\"Genre\"].value_counts()"
   ]
  },
  {
   "cell_type": "code",
   "execution_count": 26,
   "metadata": {},
   "outputs": [
    {
     "data": {
      "text/plain": [
       "Q1\n",
       "0    99\n",
       "1     1\n",
       "Name: count, dtype: int64"
      ]
     },
     "execution_count": 26,
     "metadata": {},
     "output_type": "execute_result"
    }
   ],
   "source": [
    "df_processed[\"Q1\"].value_counts()"
   ]
  },
  {
   "cell_type": "code",
   "execution_count": 27,
   "metadata": {},
   "outputs": [
    {
     "data": {
      "text/plain": [
       "Q2\n",
       "0    89\n",
       "1    11\n",
       "Name: count, dtype: int64"
      ]
     },
     "execution_count": 27,
     "metadata": {},
     "output_type": "execute_result"
    }
   ],
   "source": [
    "df_processed[\"Q2\"].value_counts()"
   ]
  },
  {
   "cell_type": "code",
   "execution_count": 28,
   "metadata": {},
   "outputs": [
    {
     "data": {
      "text/plain": [
       "Q3\n",
       "0    92\n",
       "1     8\n",
       "Name: count, dtype: int64"
      ]
     },
     "execution_count": 28,
     "metadata": {},
     "output_type": "execute_result"
    }
   ],
   "source": [
    "df_processed[\"Q3\"].value_counts()"
   ]
  },
  {
   "cell_type": "code",
   "execution_count": 29,
   "metadata": {},
   "outputs": [
    {
     "data": {
      "text/plain": [
       "Q4\n",
       "0    61\n",
       "1    39\n",
       "Name: count, dtype: int64"
      ]
     },
     "execution_count": 29,
     "metadata": {},
     "output_type": "execute_result"
    }
   ],
   "source": [
    "df_processed[\"Q4\"].value_counts()"
   ]
  },
  {
   "cell_type": "code",
   "execution_count": 30,
   "metadata": {},
   "outputs": [
    {
     "data": {
      "text/plain": [
       "Q5\n",
       "1    70\n",
       "0    30\n",
       "Name: count, dtype: int64"
      ]
     },
     "execution_count": 30,
     "metadata": {},
     "output_type": "execute_result"
    }
   ],
   "source": [
    "df_processed[\"Q5\"].value_counts()"
   ]
  },
  {
   "cell_type": "code",
   "execution_count": 31,
   "metadata": {},
   "outputs": [],
   "source": [
    "df_processed = df_processed.astype({\"Q1\": int, \"Q2\": int, \"Q3\": int, \"Q4\": int, \"Q5\": int,})"
   ]
  },
  {
   "cell_type": "code",
   "execution_count": 32,
   "metadata": {},
   "outputs": [],
   "source": [
    "from sklearn.linear_model import LogisticRegression\n",
    "from sklearn.model_selection import train_test_split\n",
    "from sklearn.metrics import classification_report\n",
    "\n",
    "X_train, X_test, y_train, y_test = train_test_split(df_processed[['Q1', 'Q2', 'Q3', 'Q4', 'Q5']], df_processed['Genre'], test_size=0.2)"
   ]
  },
  {
   "cell_type": "code",
   "execution_count": 33,
   "metadata": {},
   "outputs": [
    {
     "name": "stdout",
     "output_type": "stream",
     "text": [
      "              precision    recall  f1-score   support\n",
      "\n",
      "      comedy       0.75      0.60      0.67        10\n",
      "       drama       0.67      0.80      0.73        10\n",
      "\n",
      "    accuracy                           0.70        20\n",
      "   macro avg       0.71      0.70      0.70        20\n",
      "weighted avg       0.71      0.70      0.70        20\n",
      "\n"
     ]
    }
   ],
   "source": [
    "model = LogisticRegression()\n",
    "\n",
    "model.fit(X_train, y_train)\n",
    "\n",
    "y_pred = model.predict(X_test)\n",
    "print(classification_report(y_test, y_pred))"
   ]
  }
 ],
 "metadata": {
  "kernelspec": {
   "display_name": "env",
   "language": "python",
   "name": "python3"
  },
  "language_info": {
   "codemirror_mode": {
    "name": "ipython",
    "version": 3
   },
   "file_extension": ".py",
   "mimetype": "text/x-python",
   "name": "python",
   "nbconvert_exporter": "python",
   "pygments_lexer": "ipython3",
   "version": "3.13.2"
  }
 },
 "nbformat": 4,
 "nbformat_minor": 2
}
